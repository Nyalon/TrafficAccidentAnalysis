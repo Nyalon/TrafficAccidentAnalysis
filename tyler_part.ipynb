{
 "cells": [
  {
   "cell_type": "code",
   "execution_count": 1,
   "metadata": {},
   "outputs": [],
   "source": [
    "import pandas as pd\n",
    "import matplotlib.pyplot as plt\n",
    "import numpy as np\n",
    "import gmaps\n",
    "import sys\n",
    "sys.path.insert(0, 'Data')\n",
    "from config import gkey\n",
    "\n",
    "accident_data = pd.read_csv(\"Data/accident_data.csv\")"
   ]
  },
  {
   "cell_type": "code",
   "execution_count": 2,
   "metadata": {
    "scrolled": true
   },
   "outputs": [],
   "source": [
    "# Data cleanup\n",
    "\n",
    "# Filters out dates containing 2016, 2017, & 2019 -- too much data in dataset to handle with laptops\n",
    "df = accident_data[~accident_data[\"Start_Time\"].str.contains(\"2016\")]\n",
    "df = df[~df[\"Start_Time\"].str.contains(\"2017\")]\n",
    "df = df[~df[\"Start_Time\"].str.contains(\"2019\")]\n",
    "\n",
    "# Splits the Start_Time column into individual columns\n",
    "df[[\"Date\", \"Time\"]] = df[\"Start_Time\"].str.split(expand=True)\n",
    "\n",
    "# Renames columns to be more readable\n",
    "df = df.rename(columns={\"Start_Lat\":\"Lat\", \"Start_Lng\":\"Lng\", \"Weather_Condition\":\"Weather\"})\n",
    "\n",
    "# Filters and rearranges dataset to display most useful columns\n",
    "df = df[[\"Date\", \"Time\", \"Lat\", \"Lng\", \"City\", \"State\",\n",
    "         \"County\", \"Weather\", \"Temperature(F)\", \"Severity\"]]\n",
    "\n",
    "# Iterates through all column data to find NaN values and adds them to a list\n",
    "# df.columns[df.isna().any()].tolist()\n",
    "# Output: ['City', 'Weather', 'Temperature(F)']\n",
    "\n",
    "# df.head(10)"
   ]
  },
  {
   "cell_type": "code",
   "execution_count": 15,
   "metadata": {},
   "outputs": [],
   "source": [
    "# Creates a smaller dataframe for weather-specific purposes\n",
    "\n",
    "weather_df = df[[\"Date\", \"City\", \"Weather\"]]\n",
    "\n",
    "weather_df = weather_df.reset_index()\n",
    "\n",
    "# weather_df.head()"
   ]
  },
  {
   "cell_type": "code",
   "execution_count": 4,
   "metadata": {},
   "outputs": [],
   "source": [
    "# Renames most columns in weather data to lessen graph density\n",
    "\n",
    "weather_df[\"Weather\"] = weather_df[\"Weather\"].replace({\n",
    "    \n",
    "    # Cloudy conditions\n",
    "    \"Mostly Cloudy\":\"Cloudy\",\n",
    "    \"Scattered Clouds\":\"Cloudy\",\n",
    "    \"Partly Cloudy\":\"Cloudy\",\n",
    "    \n",
    "    # Rainy conditions\n",
    "    \"Light Rain\":\"Rain\",\n",
    "    \"Heavy Rain\":\"Rain\",\n",
    "    \"Light Drizzle\":\"Rain\",\n",
    "    \"Light Thunderstorms and Rain\":\"Rain\",\n",
    "    \"Heavy Thunderstorms and Rain\":\"Rain\",\n",
    "    \"Heavy Rain Showers\":\"Rain\",\n",
    "    \"Drizzle\":\"Rain\",\n",
    "    \"Storm\":\"Rain\",\n",
    "    \"Light Freezing Rain\":\"Rain\",\n",
    "    \"Heavy Drizzle\":\"Rain\",\n",
    "    \"Thunderstorms and Rain\":\"Rain\",\n",
    "    \"Light Freezing Drizzle\":\"Rain\",\n",
    "    \"Light Rain Showers\":\"Rain\",\n",
    "    \"Light Thunderstorm\":\"Rain\",\n",
    "    \"Heavy Freezing Rain\":\"Rain\",\n",
    "    \"Heavy Freezing Drizzle\":\"Rain\",\n",
    "    \"Squalls\":\"Rain\",\n",
    "    \"Rain Showers\":\"Rain\",\n",
    "    \"Thunderstorm\":\"Rain\",\n",
    "    \n",
    "    # Foggy conditions\n",
    "    \"Patches of Fog\":\"Fog\",\n",
    "    \"Shallow Fog\":\"Fog\",\n",
    "    \"Mist\":\"Fog\",\n",
    "    \"Light Freezing Fog\":\"Fog\",\n",
    "    \"Haze\":\"Fog\",\n",
    "    \"Light Haze\":\"Fog\",\n",
    "    \n",
    "    # Snow conditions\n",
    "    \"Light Snow\":\"Snow\",\n",
    "    \"Blowing Snow\":\"Snow\",\n",
    "    \"Light Snow Showers\":\"Snow\",\n",
    "    \"Heavy Snow\":\"Snow\",\n",
    "    \"Light Snow Grains\":\"Snow\",\n",
    "    \"Light Thunderstorms and Snow\":\"Snow\",\n",
    "    \"Heavy Blowing Snow\":\"Snow\",\n",
    "    \"Light Blowing Snow\":\"Snow\",\n",
    "    \"Thunderstorms and Snow\":\"Snow\",\n",
    "    \"Snow Showers\":\"Snow\",\n",
    "    \n",
    "    # Other conditions\n",
    "    \"Hail\":\"Misc/Other\",\n",
    "    \"Light Ice Pellets\":\"Misc/Other\",\n",
    "    \"Small Hail\":\"Misc/Other\",\n",
    "    \"Light Hail\":\"Misc/Other\",\n",
    "    \"Heavy Thunderstorms with Small Hail\":\"Misc/Other\",\n",
    "    \"Ice Pellets\":\"Misc/Other\",\n",
    "    \"Smoke\":\"Misc/Other\",\n",
    "    \"Heavy Smoke\":\"Misc/Other\",\n",
    "    \"Volcanic Ash\":\"Misc/Other\",\n",
    "    \"Widespread Dust\":\"Misc/Other\",\n",
    "    \"Sand\":\"Misc/Other\",\n",
    "    \"Funnel Cloud\":\"Misc/Other\"\n",
    "})\n",
    "\n",
    "# weather_df[\"Weather\"].value_counts()"
   ]
  },
  {
   "cell_type": "code",
   "execution_count": 5,
   "metadata": {},
   "outputs": [
    {
     "data": {
      "image/png": "[encoded data removed]",
      "text/plain": [
       "<Figure size 432x288 with 1 Axes>"
      ]
     },
     "metadata": {
      "needs_background": "light"
     },
     "output_type": "display_data"
    }
   ],
   "source": [
    "# Bar graph for number of accidents vs. weather conditions\n",
    "# across reported 201 accidents\n",
    "\n",
    "x_axis = np.arange(len(weather_df[\"Weather\"].value_counts()))\n",
    "weather_counts = weather_df[\"Weather\"].value_counts()\n",
    "\n",
    "plt.bar(x_axis, weather_counts)\n",
    "\n",
    "plt.title(\"Accidents Based on Weather Condition\")\n",
    "plt.xlabel(\"Weather Condition\")\n",
    "plt.ylabel(\"Number of Accidents\")\n",
    "\n",
    "tick_locations = [value for value in x_axis]\n",
    "plt.xticks(tick_locations, [\"Clear\", \"Cloudy\", \"Overcast\", \"Rain\", \"Fog\", \"Snow\", \"Misc/Other\"])\n",
    "\n",
    "plt.show()"
   ]
  },
  {
   "cell_type": "code",
   "execution_count": 6,
   "metadata": {},
   "outputs": [],
   "source": [
    "# Generates a list of cities that have an accident count greater than 500 (263 total cities)\n",
    "city_counts = weather_df[\"City\"].value_counts()\n",
    "cities = city_counts[city_counts > 500 ].index.tolist()\n",
    "\n",
    "rain_accident = 0\n",
    "total_rain_accident = 0\n",
    "clear_accident = 0\n",
    "total_clear_accident = 0\n",
    "\n",
    "city_weather_df = pd.DataFrame({\n",
    "    \"City\":[],\n",
    "    \"Clear Days\":[],\n",
    "    \"Clear Accidents\":[],\n",
    "    \"Accidents/Clear Day\":[],\n",
    "    \"Rain Days\":[],\n",
    "    \"Rain Accidents\":[],\n",
    "    \"Accidents/Rain Day\":[],\n",
    "    \"Difference\":[]\n",
    "})\n",
    "\n",
    "for city in cities:     \n",
    "        \n",
    "    # Iterates through city list and separates rainy days and clear days\n",
    "    city_df = weather_df.loc[(weather_df[\"City\"] == city), :]\n",
    "    rainy_days = city_df.loc[(city_df[\"Weather\"] == \"Rain\")]\n",
    "    sunny_days = city_df.loc[(city_df[\"Weather\"] == \"Clear\")]\n",
    "    \n",
    "    # Unique & total dates involving clear skies\n",
    "    clear_days = len(sunny_days[\"Date\"].unique())\n",
    "    clear_accidents = len(sunny_days)\n",
    "    \n",
    "    # Unique & total dates involving rain\n",
    "    rain_days = len(rainy_days[\"Date\"].unique())\n",
    "    rain_accidents = len(rainy_days)\n",
    "    \n",
    "    # Average accidents for given weather\n",
    "    try:\n",
    "        clear_avg_accidents = round((clear_accidents/clear_days), 2)\n",
    "        rain_avg_accidents = round((rain_accidents/rain_days), 2)\n",
    "    except:\n",
    "        continue\n",
    "        \n",
    "    difference = clear_avg_accidents - rain_avg_accidents\n",
    "\n",
    "    \n",
    "    # Appends to a dataframe\n",
    "    city_weather_df = city_weather_df.append({\n",
    "        \"City\":city,\n",
    "        \"Clear Days\":clear_days,\n",
    "        \"Clear Accidents\":clear_accidents,\n",
    "        \"Accidents/Clear Day\":clear_avg_accidents,\n",
    "        \"Rain Days\":rain_days,\n",
    "        \"Rain Accidents\":rain_accidents,\n",
    "        \"Accidents/Rain Day\":rain_avg_accidents,\n",
    "        \"Difference\":difference\n",
    "    },\n",
    "    ignore_index=True\n",
    "    )"
   ]
  },
  {
   "cell_type": "code",
   "execution_count": 7,
   "metadata": {},
   "outputs": [],
   "source": [
    "# Sorts previously created dataframe to determine worst cities to drive in\n",
    "sorted_city_weather_df = city_weather_df.sort_values(by=[\"Difference\"], ascending=False)"
   ]
  },
  {
   "cell_type": "code",
   "execution_count": 8,
   "metadata": {},
   "outputs": [
    {
     "data": {
      "image/png": "[encoded data removed]",
      "text/plain": [
       "<Figure size 432x288 with 1 Axes>"
      ]
     },
     "metadata": {
      "needs_background": "light"
     },
     "output_type": "display_data"
    }
   ],
   "source": [
    "# Bar graph to show the difference between clear skies accidents\n",
    "# and rainy day accidents. Positive numbers mean more clear skies;\n",
    "# negative means more rainy days.\n",
    "x_axis = np.arange(len(city_weather_df))\n",
    "\n",
    "plt.bar(x_axis, sorted_city_weather_df[\"Difference\"])\n",
    "\n",
    "plt.title(\"Odds of Dying Horribly\")\n",
    "plt.xlabel(\"Number of Cities Analyzed\")\n",
    "plt.ylabel(\"Difference of Clear Accidents\\n and Rain Accidents\")\n",
    "\n",
    "plt.show()"
   ]
  },
  {
   "cell_type": "code",
   "execution_count": 9,
   "metadata": {},
   "outputs": [],
   "source": [
    "# Used & commented to find the worst cities to drive in for rain, clear skies, or ever:\n",
    "# sorted_city_weather_df.loc[sorted_city_weather_df[\"Difference\"] == 0]\n",
    "    # Value: North Charleston (even odds of accident)\n",
    "    \n",
    "# sorted_city_weather_df.iloc[-1]\n",
    "    # Value: Rochester (worst city to drive in rain)\n",
    "    \n",
    "# sorted_city_weather_df.iloc[0]\n",
    "    # Value: Houston (worst city to drive in clear skies)\n",
    "    \n",
    "# sorted_city_weather_df.loc[sorted_city_weather_df[\"City\"] == \"Raleigh\"]\n",
    "    # Value: Raleigh (1.3 more accidents in the rain per day)"
   ]
  }
 ],
 "metadata": {
  "kernelspec": {
   "display_name": "Python 3",
   "language": "python",
   "name": "python3"
  },
  "language_info": {
   "codemirror_mode": {
    "name": "ipython",
    "version": 3
   },
   "file_extension": ".py",
   "mimetype": "text/x-python",
   "name": "python",
   "nbconvert_exporter": "python",
   "pygments_lexer": "ipython3",
   "version": "3.6.9"
  }
 },
 "nbformat": 4,
 "nbformat_minor": 2
}
